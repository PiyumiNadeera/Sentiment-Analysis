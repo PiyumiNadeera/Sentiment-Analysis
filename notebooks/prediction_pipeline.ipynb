{
 "cells": [
  {
   "cell_type": "code",
   "execution_count": 557,
   "id": "72f8eb3e-3330-4c6e-b9ef-7efc8d751d1d",
   "metadata": {},
   "outputs": [],
   "source": [
    "import pandas as pd\n",
    "import numpy as np\n",
    "import re\n",
    "import string\n",
    "import pickle"
   ]
  },
  {
   "cell_type": "code",
   "execution_count": 558,
   "id": "4269b54d-c6c6-4548-a028-08b83518067e",
   "metadata": {},
   "outputs": [],
   "source": [
    "def remove_punctuation(txt):\n",
    "    for punctuation in string.punctuation:\n",
    "        txt = txt.replace(punctuation,'')\n",
    "    return txt"
   ]
  },
  {
   "cell_type": "code",
   "execution_count": 559,
   "id": "57b3aa52-5b89-41ef-8905-6064a0dde3f4",
   "metadata": {},
   "outputs": [],
   "source": [
    "with open('../static/model/model.pickle','rb') as file:\n",
    "    model = pickle.load(file)"
   ]
  },
  {
   "cell_type": "code",
   "execution_count": 560,
   "id": "610f316c-e3db-4263-84cd-702e36bd0694",
   "metadata": {},
   "outputs": [],
   "source": [
    "with open('../static/model/corpora/stopwords/english','r') as file:\n",
    "    stop_words = file.read().splitlines()"
   ]
  },
  {
   "cell_type": "code",
   "execution_count": 561,
   "id": "598ab3fb-b224-4797-9311-07ae28664c5d",
   "metadata": {},
   "outputs": [],
   "source": [
    "from nltk.stem import PorterStemmer\n",
    "ps = PorterStemmer()"
   ]
  },
  {
   "cell_type": "code",
   "execution_count": 562,
   "id": "9563051c-17b0-4551-be85-306488c22e95",
   "metadata": {},
   "outputs": [],
   "source": [
    "def preprocessing(txt):\n",
    "    data = pd.DataFrame([txt],columns=['tweet'])\n",
    "    data['tweet'] = data['tweet'].apply(lambda x: \" \".join(x.lower() for x in x.split()))\n",
    "    data['tweet'] = data['tweet'].apply(lambda x: \" \".join(re.sub(r'^gttps?:\\/\\/.*[\\r\\n]*','',x,flags=re.MULTILINE) for x in x.split()))\n",
    "    data['tweet'] = data['tweet'].apply(remove_punctuation)\n",
    "    data['tweet'] = data['tweet'].str.replace(r'\\d+','',regex=True)\n",
    "    data['tweet'] = data['tweet'].apply(lambda x:\" \".join(x for x in x.split() if x not in stop_words))\n",
    "    data['tweet'] = data['tweet'].apply(lambda x:\" \".join(ps.stem(x) for x in x.split()))\n",
    "    return data['tweet']"
   ]
  },
  {
   "cell_type": "code",
   "execution_count": 566,
   "id": "64e67e09-a1c1-4a81-a843-245cace78477",
   "metadata": {},
   "outputs": [],
   "source": [
    "vocab = pd.read_csv('../static/model/vocabulary.txt',header=None)\n",
    "tokens = vocab[0].tolist()"
   ]
  },
  {
   "cell_type": "code",
   "execution_count": 567,
   "id": "ca28227e-7e50-4628-92e2-599f0fd1a387",
   "metadata": {},
   "outputs": [],
   "source": [
    "def vectorizer(dataset,vocabulary):\n",
    "    vectorized_list = []\n",
    "    \n",
    "    for sentence in dataset:\n",
    "        sentence_list = np.zeros(len(vocabulary))\n",
    "\n",
    "        for i in range(len(vocabulary)):\n",
    "            if vocabulary[i] in sentence.split():\n",
    "                sentence_list[i] = 1\n",
    "\n",
    "        vectorized_list.append(sentence_list)\n",
    "\n",
    "    vectorized_list_new = np.array(vectorized_list,dtype=np.float32)\n",
    "\n",
    "    return vectorized_list_new"
   ]
  },
  {
   "cell_type": "code",
   "execution_count": 569,
   "id": "e3058f07-1d81-4b64-8e96-507460da0311",
   "metadata": {},
   "outputs": [],
   "source": [
    "def get_prediction(vectorized_text):\n",
    "    prediction = model.predict(vectorized_text)\n",
    "    if prediction == 1:\n",
    "        return 'Positive'\n",
    "    else:\n",
    "        return 'Negative'\n",
    "    "
   ]
  },
  {
   "cell_type": "code",
   "execution_count": 602,
   "id": "91d970fb-1920-4f12-8556-011d2c8c0dde",
   "metadata": {},
   "outputs": [
    {
     "data": {
      "text/plain": [
       "'Positive'"
      ]
     },
     "execution_count": 602,
     "metadata": {},
     "output_type": "execute_result"
    }
   ],
   "source": [
    "txt = 'unsatisfied'\n",
    "preprocessed_txt = preprocessing(txt)\n",
    "vectorized_text = vectorizer(preprocessed_txt,tokens)\n",
    "get_prediction(vectorized_text)"
   ]
  },
  {
   "cell_type": "code",
   "execution_count": null,
   "id": "ca108f9f-f914-4f33-aa1c-5069896ffe6b",
   "metadata": {},
   "outputs": [],
   "source": []
  }
 ],
 "metadata": {
  "kernelspec": {
   "display_name": "Python 3 (ipykernel)",
   "language": "python",
   "name": "python3"
  },
  "language_info": {
   "codemirror_mode": {
    "name": "ipython",
    "version": 3
   },
   "file_extension": ".py",
   "mimetype": "text/x-python",
   "name": "python",
   "nbconvert_exporter": "python",
   "pygments_lexer": "ipython3",
   "version": "3.12.7"
  }
 },
 "nbformat": 4,
 "nbformat_minor": 5
}
